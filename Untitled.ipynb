{
 "cells": [
  {
   "cell_type": "code",
   "execution_count": 1,
   "id": "2b7b04e1",
   "metadata": {},
   "outputs": [],
   "source": [
    "import numpy as np\n",
    "from matplotlib import pyplot as plt"
   ]
  },
  {
   "cell_type": "code",
   "execution_count": 2,
   "id": "83d0080b",
   "metadata": {},
   "outputs": [],
   "source": [
    "sudokus = np.load('Data/sudokus.npy')"
   ]
  },
  {
   "cell_type": "code",
   "execution_count": 4,
   "id": "b5ff60b1",
   "metadata": {},
   "outputs": [
    {
     "data": {
      "text/plain": [
       "array([[[0, 0, 0, 0, 0, 0, 0, 1, 0],\n",
       "        [4, 0, 0, 0, 0, 0, 0, 0, 0],\n",
       "        [0, 2, 0, 0, 0, 0, 0, 0, 0],\n",
       "        [0, 0, 0, 0, 5, 0, 4, 0, 7],\n",
       "        [0, 0, 8, 0, 0, 0, 3, 0, 0],\n",
       "        [0, 0, 1, 0, 9, 0, 0, 0, 0],\n",
       "        [3, 0, 0, 4, 0, 0, 2, 0, 0],\n",
       "        [0, 5, 0, 1, 0, 0, 0, 0, 0],\n",
       "        [0, 0, 0, 8, 0, 6, 0, 0, 0]],\n",
       "\n",
       "       [[6, 9, 3, 7, 8, 4, 5, 1, 2],\n",
       "        [4, 8, 7, 5, 1, 2, 9, 3, 6],\n",
       "        [1, 2, 5, 9, 6, 3, 8, 7, 4],\n",
       "        [9, 3, 2, 6, 5, 1, 4, 8, 7],\n",
       "        [5, 6, 8, 2, 4, 7, 3, 9, 1],\n",
       "        [7, 4, 1, 3, 9, 8, 6, 2, 5],\n",
       "        [3, 1, 9, 4, 7, 5, 2, 6, 8],\n",
       "        [8, 5, 6, 1, 2, 9, 7, 4, 3],\n",
       "        [2, 7, 4, 8, 3, 6, 1, 5, 9]]])"
      ]
     },
     "execution_count": 4,
     "metadata": {},
     "output_type": "execute_result"
    }
   ],
   "source": [
    "sudokus[0]"
   ]
  },
  {
   "cell_type": "code",
   "execution_count": 42,
   "id": "c4788a7b",
   "metadata": {},
   "outputs": [
    {
     "data": {
      "text/plain": [
       "array([], dtype=float64)"
      ]
     },
     "execution_count": 42,
     "metadata": {},
     "output_type": "execute_result"
    }
   ],
   "source": [
    "fixed = sudokus[0][0].reshape(81)\n",
    "idxs = np.array(list(set(range(81)) - set(np.nonzero(fixed)[0])))\n",
    "np.random.shuffle(idxs)\n",
    "idxs"
   ]
  },
  {
   "cell_type": "code",
   "execution_count": 44,
   "id": "69f1eae7",
   "metadata": {},
   "outputs": [
    {
     "data": {
      "text/plain": [
       "array([[[6, 9, 3, 7, 8, 4, 5, 1, 2],\n",
       "        [4, 8, 7, 5, 1, 2, 9, 3, 6],\n",
       "        [1, 2, 5, 9, 6, 3, 8, 7, 4],\n",
       "        [9, 3, 2, 6, 5, 1, 4, 8, 7],\n",
       "        [5, 6, 8, 2, 4, 7, 3, 9, 1],\n",
       "        [7, 4, 1, 3, 9, 8, 6, 2, 5],\n",
       "        [3, 1, 9, 4, 7, 5, 2, 6, 8],\n",
       "        [8, 5, 6, 1, 2, 9, 7, 4, 3],\n",
       "        [2, 7, 4, 8, 3, 6, 1, 5, 9]],\n",
       "\n",
       "       [[6, 9, 3, 7, 8, 4, 5, 1, 2],\n",
       "        [4, 8, 7, 5, 1, 2, 9, 3, 6],\n",
       "        [1, 2, 5, 9, 6, 3, 8, 7, 4],\n",
       "        [9, 3, 2, 6, 5, 1, 4, 8, 7],\n",
       "        [5, 6, 8, 2, 4, 7, 3, 9, 1],\n",
       "        [7, 4, 1, 3, 9, 8, 6, 2, 5],\n",
       "        [3, 1, 9, 4, 7, 5, 2, 6, 8],\n",
       "        [8, 5, 6, 1, 2, 9, 7, 4, 3],\n",
       "        [2, 7, 4, 8, 3, 6, 1, 5, 9]]])"
      ]
     },
     "execution_count": 44,
     "metadata": {},
     "output_type": "execute_result"
    }
   ],
   "source": [
    "sudokus[0]"
   ]
  },
  {
   "cell_type": "code",
   "execution_count": 37,
   "id": "6c726e81",
   "metadata": {},
   "outputs": [
    {
     "ename": "IndexError",
     "evalue": "index 1 is out of bounds for axis 0 with size 1",
     "output_type": "error",
     "traceback": [
      "\u001b[0;31m---------------------------------------------------------------------------\u001b[0m",
      "\u001b[0;31mIndexError\u001b[0m                                Traceback (most recent call last)",
      "\u001b[0;32m/var/folders/j2/hzydqpsj70x2_l0y6kvd0v8w0000gn/T/ipykernel_17533/3506159101.py\u001b[0m in \u001b[0;36m<module>\u001b[0;34m\u001b[0m\n\u001b[1;32m      8\u001b[0m     \u001b[0mnp\u001b[0m\u001b[0;34m.\u001b[0m\u001b[0mrandom\u001b[0m\u001b[0;34m.\u001b[0m\u001b[0mshuffle\u001b[0m\u001b[0;34m(\u001b[0m\u001b[0midxs\u001b[0m\u001b[0;34m)\u001b[0m\u001b[0;34m\u001b[0m\u001b[0;34m\u001b[0m\u001b[0m\n\u001b[1;32m      9\u001b[0m     \u001b[0;32mfor\u001b[0m \u001b[0mj\u001b[0m \u001b[0;32min\u001b[0m \u001b[0mrange\u001b[0m\u001b[0;34m(\u001b[0m\u001b[0mhints\u001b[0m\u001b[0;34m)\u001b[0m\u001b[0;34m:\u001b[0m\u001b[0;34m\u001b[0m\u001b[0;34m\u001b[0m\u001b[0m\n\u001b[0;32m---> 10\u001b[0;31m         \u001b[0mfixed\u001b[0m\u001b[0;34m[\u001b[0m\u001b[0midxs\u001b[0m\u001b[0;34m[\u001b[0m\u001b[0mj\u001b[0m\u001b[0;34m]\u001b[0m\u001b[0;34m]\u001b[0m \u001b[0;34m=\u001b[0m \u001b[0mcomplete\u001b[0m\u001b[0;34m[\u001b[0m\u001b[0midxs\u001b[0m\u001b[0;34m[\u001b[0m\u001b[0mj\u001b[0m\u001b[0;34m]\u001b[0m\u001b[0;34m]\u001b[0m\u001b[0;34m\u001b[0m\u001b[0;34m\u001b[0m\u001b[0m\n\u001b[0m\u001b[1;32m     11\u001b[0m \u001b[0;34m\u001b[0m\u001b[0m\n\u001b[1;32m     12\u001b[0m     \u001b[0mshort_puzzles\u001b[0m\u001b[0;34m[\u001b[0m\u001b[0mi\u001b[0m\u001b[0;34m,\u001b[0m\u001b[0;36m0\u001b[0m\u001b[0;34m,\u001b[0m\u001b[0;34m:\u001b[0m\u001b[0;34m]\u001b[0m \u001b[0;34m=\u001b[0m \u001b[0mfixed\u001b[0m\u001b[0;34m.\u001b[0m\u001b[0mreshape\u001b[0m\u001b[0;34m(\u001b[0m\u001b[0;34m(\u001b[0m\u001b[0;36m9\u001b[0m\u001b[0;34m,\u001b[0m\u001b[0;36m9\u001b[0m\u001b[0;34m)\u001b[0m\u001b[0;34m)\u001b[0m\u001b[0;34m\u001b[0m\u001b[0;34m\u001b[0m\u001b[0m\n",
      "\u001b[0;31mIndexError\u001b[0m: index 1 is out of bounds for axis 0 with size 1"
     ]
    }
   ],
   "source": [
    "short_puzzles = np.zeros((100,2,9,9))\n",
    "for i in range(100):\n",
    "    fixed = sudokus[i][0].reshape(81)\n",
    "    complete = sudokus[i][1].reshape(81)\n",
    "    \n",
    "    hints = np.random.randint(0,60-17)\n",
    "    idxs = np.array(list(set(range(81)) - set(np.nonzero(fixed)[0])))\n",
    "    np.random.shuffle(idxs)\n",
    "    for j in range(hints):\n",
    "        fixed[idxs[j]] = complete[idxs[j]]\n",
    "            \n",
    "    short_puzzles[i,0,:] = fixed.reshape((9,9))\n",
    "    short_puzzles[i,1,:] = complete.reshape((9,9))"
   ]
  },
  {
   "cell_type": "code",
   "execution_count": 21,
   "id": "20eee58b",
   "metadata": {},
   "outputs": [
    {
     "data": {
      "text/plain": [
       "[]"
      ]
     },
     "execution_count": 21,
     "metadata": {},
     "output_type": "execute_result"
    }
   ],
   "source": []
  },
  {
   "cell_type": "code",
   "execution_count": null,
   "id": "695ce453",
   "metadata": {},
   "outputs": [],
   "source": []
  }
 ],
 "metadata": {
  "kernelspec": {
   "display_name": "Python 3 (ipykernel)",
   "language": "python",
   "name": "python3"
  },
  "language_info": {
   "codemirror_mode": {
    "name": "ipython",
    "version": 3
   },
   "file_extension": ".py",
   "mimetype": "text/x-python",
   "name": "python",
   "nbconvert_exporter": "python",
   "pygments_lexer": "ipython3",
   "version": "3.8.12"
  }
 },
 "nbformat": 4,
 "nbformat_minor": 5
}
