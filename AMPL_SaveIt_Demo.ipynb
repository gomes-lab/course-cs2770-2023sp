{
  "nbformat": 4,
  "nbformat_minor": 0,
  "metadata": {
    "colab": {
      "provenance": [],
      "authorship_tag": "ABX9TyOr5xM1K4NrMaWQKDbu/EQU",
      "include_colab_link": true
    },
    "kernelspec": {
      "name": "python3",
      "display_name": "Python 3"
    },
    "language_info": {
      "name": "python"
    }
  },
  "cells": [
    {
      "cell_type": "markdown",
      "metadata": {
        "id": "view-in-github",
        "colab_type": "text"
      },
      "source": [
        "<a href=\"https://colab.research.google.com/github/gomes-lab/course-cs2770-2023sp/blob/main/AMPL_SaveIt_Demo.ipynb\" target=\"_parent\"><img src=\"https://colab.research.google.com/assets/colab-badge.svg\" alt=\"Open In Colab\"/></a>"
      ]
    },
    {
      "cell_type": "code",
      "execution_count": 1,
      "metadata": {
        "colab": {
          "base_uri": "https://localhost:8080/"
        },
        "id": "OxdDJc9z7nG3",
        "outputId": "e726147a-08ce-4657-aa50-0554210ccce7"
      },
      "outputs": [
        {
          "output_type": "stream",
          "name": "stdout",
          "text": [
            "\u001b[?25l     \u001b[90m━━━━━━━━━━━━━━━━━━━━━━━━━━━━━━━━━━━━━━━━\u001b[0m \u001b[32m0.0/4.5 MB\u001b[0m \u001b[31m?\u001b[0m eta \u001b[36m-:--:--\u001b[0m\r\u001b[2K     \u001b[91m━━━━\u001b[0m\u001b[90m╺\u001b[0m\u001b[90m━━━━━━━━━━━━━━━━━━━━━━━━━━━━━━━━━━━\u001b[0m \u001b[32m0.5/4.5 MB\u001b[0m \u001b[31m18.2 MB/s\u001b[0m eta \u001b[36m0:00:01\u001b[0m\r\u001b[2K     \u001b[91m━━━━━━━━━━━━━━━━━━━━━━━━\u001b[0m\u001b[90m╺\u001b[0m\u001b[90m━━━━━━━━━━━━━━━\u001b[0m \u001b[32m2.8/4.5 MB\u001b[0m \u001b[31m41.8 MB/s\u001b[0m eta \u001b[36m0:00:01\u001b[0m\r\u001b[2K     \u001b[91m━━━━━━━━━━━━━━━━━━━━━━━━━━━━━━━━━━━━━━━\u001b[0m\u001b[91m╸\u001b[0m \u001b[32m4.5/4.5 MB\u001b[0m \u001b[31m50.5 MB/s\u001b[0m eta \u001b[36m0:00:01\u001b[0m\r\u001b[2K     \u001b[91m━━━━━━━━━━━━━━━━━━━━━━━━━━━━━━━━━━━━━━━\u001b[0m\u001b[91m╸\u001b[0m \u001b[32m4.5/4.5 MB\u001b[0m \u001b[31m50.5 MB/s\u001b[0m eta \u001b[36m0:00:01\u001b[0m\r\u001b[2K     \u001b[90m━━━━━━━━━━━━━━━━━━━━━━━━━━━━━━━━━━━━━━━━\u001b[0m \u001b[32m4.5/4.5 MB\u001b[0m \u001b[31m29.7 MB/s\u001b[0m eta \u001b[36m0:00:00\u001b[0m\n",
            "\u001b[?25h"
          ]
        }
      ],
      "source": [
        "# Install dependencies\n",
        "!pip install -q amplpy pandas"
      ]
    },
    {
      "cell_type": "code",
      "source": [
        "# Import packages and setup AMPL\n",
        "from amplpy import AMPL, tools\n",
        "ampl = tools.ampl_notebook(\n",
        "    modules=[\"highs\"],      # modules to install\n",
        "    license_uuid=\"default\", # license to use\n",
        "    g=globals())            # instantiate AMPL object and register magics"
      ],
      "metadata": {
        "colab": {
          "base_uri": "https://localhost:8080/"
        },
        "id": "axLvKvqs7r3N",
        "outputId": "5a0149b8-dbdc-42c4-cf03-ffdc9acc35df"
      },
      "execution_count": 2,
      "outputs": [
        {
          "output_type": "stream",
          "name": "stdout",
          "text": [
            "Using default Community Edition License for Colab. Get yours at: https://ampl.com/ce\n",
            "Licensed to AMPL Community Edition License for the AMPL Model Colaboratory (https://colab.ampl.com).\n"
          ]
        }
      ]
    },
    {
      "cell_type": "code",
      "source": [
        "# Model for the SaveIt example shown in class\n",
        "%%ampl_eval\n",
        "set Grade;\n",
        "set Material;\n",
        "\n",
        "var X {Grade, Material} >= 0;\n",
        "\n",
        "maximize Profit: 5.5 * (X['A',1] + X['A', 2] + X['A', 3] + X['A', 4]) + 4.5 * (X['B',1] + X['B', 2] + X['B', 3] + X['B', 4]) + 3.5 * (X['C',1] + X['C', 2] + X['C', 3] + X['C', 4]);\n",
        "subject to A1_const: X['A', 1] <= 0.3 * sum {j in Material} X['A',j];\n",
        "subject to A2_const: X['A', 2] >= 0.4 * sum {j in Material} X['A',j];\n",
        "subject to A3_const: X['A', 3] <= 0.5 * sum {j in Material} X['A',j];\n",
        "subject to A4_const: X['A', 4] = 0.2 * sum {j in Material} X['A',j];\n",
        "subject to B1_const: X['B', 1] <= 0.5 * sum {j in Material} X['B',j];\n",
        "subject to B2_const: X['B', 2] >= 0.1 * sum {j in Material} X['B',j];\n",
        "subject to B4_const: X['B', 4] = 0.1 * sum {j in Material} X['B',j];\n",
        "subject to C1_const: X['C', 1] <= 0.7 * sum {j in Material} X['C',j];\n",
        "subject to Mat1_Max: X['A', 1] + X['B', 1] + X['C', 1] <= 3000;\n",
        "subject to Mat2_Max: X['A', 2] + X['B', 2] + X['C', 2] <= 2000;\n",
        "subject to Mat3_Max: X['A', 3] + X['B', 3] + X['C', 3] <= 4000;\n",
        "subject to Mat4_Max: X['A', 4] + X['B', 4] + X['C', 4] <= 1000;\n",
        "subject to Mat1_Min: X['A', 1] + X['B', 1] + X['C', 1] >= 1500;\n",
        "subject to Mat2_Min: X['A', 2] + X['B', 2] + X['C', 2] >= 1000;\n",
        "subject to Mat3_Min: X['A', 3] + X['B', 3] + X['C', 3] >= 2000;\n",
        "subject to Mat4_Min: X['A', 4] + X['B', 4] + X['C', 4] >= 500;\n",
        "subject to Treat_Cost: 3 * (X['A', 1] + X['B', 1] + X['C', 1]) + 6 * (X['A', 2] + X['B', 2] + X['C', 2]) + 4 * (X['A', 3] + X['B', 3] + X['C', 3]) + 5 * (X['A', 4] + X['B', 4] + X['C', 4]) <= 30000;\n"
      ],
      "metadata": {
        "id": "_JSnNV217r6D"
      },
      "execution_count": 3,
      "outputs": []
    },
    {
      "cell_type": "code",
      "source": [
        "# Define the sets and paramter values\n",
        "ampl.set['Grade'] = ['A', 'B', 'C']\n",
        "ampl.set['Material'] = [1, 2, 3, 4]"
      ],
      "metadata": {
        "id": "I-7VmB337r88"
      },
      "execution_count": 4,
      "outputs": []
    },
    {
      "cell_type": "code",
      "source": [
        "# Alternate formulation of the Save-It Problem using parameters and sums\n",
        "# %%ampl_eval\n",
        "# set Grade;\n",
        "# set Material;\n",
        "\n",
        "# param profit_per_lb {Grade} >= 0;\n",
        "# param treatment_cost {Material} >= 0;\n",
        "# param lbs_avail {Material} >= 0;\n",
        "\n",
        "# var X {Grade, Material} >= 0;\n",
        "\n",
        "# maximize Profit: sum {i in Grade} profit_per_lb[i] * sum {j in Material} X[i,j];\n",
        "# subject to Mat_Avail {j in Material}: sum {i in Grade} X[i,j] <= lbs_avail[j];\n",
        "# subject to Min_Treat {j in Material}: sum {i in Grade} X[i,j] >= 0.5 * lbs_avail[j]; \n",
        "# subject to Treat_Cost: sum {j in Material} treatment_cost[j] * sum {i in Grade} X[i,j] = 30000; \n",
        "# subject to A1_const: X['A', 1] <= 0.3 * sum {j in Material} X['A',j];\n",
        "# subject to A2_const: X['A', 2] >= 0.4 * sum {j in Material} X['A',j];\n",
        "# subject to A3_const: X['A', 3] <= 0.5 * sum {j in Material} X['A',j];\n",
        "# subject to A4_const: X['A', 4] = 0.2 * sum {j in Material} X['A',j];\n",
        "# subject to B1_const: X['B', 1] <= 0.5 * sum {j in Material} X['B',j];\n",
        "# subject to B2_const: X['B', 2] >= 0.1 * sum {j in Material} X['B',j];\n",
        "# subject to B4_const: X['B', 4] = 0.1 * sum {j in Material} X['B',j];\n",
        "# subject to C1_const: X['C', 1] <= 0.7 * sum {j in Material} X['C',j];"
      ],
      "metadata": {
        "id": "17bO-e9B73FN"
      },
      "execution_count": 5,
      "outputs": []
    },
    {
      "cell_type": "code",
      "source": [
        "# Define the sets and parameter values for the more compact model\n",
        "# ampl.set['Grade'] = ['A', 'B', 'C']\n",
        "# ampl.set['Material'] = [1, 2, 3, 4]\n",
        "\n",
        "# ampl.param['profit_per_lb'] = [5.5, 4.5, 3.5]\n",
        "# ampl.param['treatment_cost'] = [3, 6, 4, 5]\n",
        "# ampl.param['lbs_avail'] = [3000, 2000, 4000, 1000]"
      ],
      "metadata": {
        "id": "MYhYOWm77531"
      },
      "execution_count": 6,
      "outputs": []
    },
    {
      "cell_type": "code",
      "source": [
        "# Solve\n",
        "ampl.option[\"solver\"] = \"highs\"\n",
        "ampl.option[\"highs_options\"] = \"outlev=0\"\n",
        "ampl.solve()"
      ],
      "metadata": {
        "colab": {
          "base_uri": "https://localhost:8080/"
        },
        "id": "tkqVKzcM77C3",
        "outputId": "ce735733-512b-46ad-bd86-d0e3f8881e8c"
      },
      "execution_count": 7,
      "outputs": [
        {
          "output_type": "stream",
          "name": "stdout",
          "text": [
            "HiGHS 1.5.1: tech:outlev=0\n",
            "HiGHS 1.5.1: optimal solution; objective 35109.64912\n",
            "6 simplex iterations\n",
            "0 barrier iterations\n"
          ]
        }
      ]
    },
    {
      "cell_type": "code",
      "source": [
        "# Check variables\n",
        "ampl.var[\"X\"].get_values().to_pandas()"
      ],
      "metadata": {
        "colab": {
          "base_uri": "https://localhost:8080/",
          "height": 426
        },
        "id": "0WZhBqL679Xi",
        "outputId": "6fe691e0-30f8-41d0-be53-6c150555c75f"
      },
      "execution_count": 8,
      "outputs": [
        {
          "output_type": "execute_result",
          "data": {
            "text/plain": [
              "                X.val\n",
              "(A, 1.0)   412.280702\n",
              "(A, 2.0)   859.649123\n",
              "(A, 3.0)   447.368421\n",
              "(A, 4.0)   429.824561\n",
              "(B, 1.0)  2587.719298\n",
              "(B, 2.0)   517.543860\n",
              "(B, 3.0)  1552.631579\n",
              "(B, 4.0)   517.543860\n",
              "(C, 1.0)     0.000000\n",
              "(C, 2.0)     0.000000\n",
              "(C, 3.0)     0.000000\n",
              "(C, 4.0)     0.000000"
            ],
            "text/html": [
              "\n",
              "  <div id=\"df-aaecac6c-d5ec-4f6f-92f8-87bdce90ce89\">\n",
              "    <div class=\"colab-df-container\">\n",
              "      <div>\n",
              "<style scoped>\n",
              "    .dataframe tbody tr th:only-of-type {\n",
              "        vertical-align: middle;\n",
              "    }\n",
              "\n",
              "    .dataframe tbody tr th {\n",
              "        vertical-align: top;\n",
              "    }\n",
              "\n",
              "    .dataframe thead th {\n",
              "        text-align: right;\n",
              "    }\n",
              "</style>\n",
              "<table border=\"1\" class=\"dataframe\">\n",
              "  <thead>\n",
              "    <tr style=\"text-align: right;\">\n",
              "      <th></th>\n",
              "      <th>X.val</th>\n",
              "    </tr>\n",
              "  </thead>\n",
              "  <tbody>\n",
              "    <tr>\n",
              "      <th>(A, 1.0)</th>\n",
              "      <td>412.280702</td>\n",
              "    </tr>\n",
              "    <tr>\n",
              "      <th>(A, 2.0)</th>\n",
              "      <td>859.649123</td>\n",
              "    </tr>\n",
              "    <tr>\n",
              "      <th>(A, 3.0)</th>\n",
              "      <td>447.368421</td>\n",
              "    </tr>\n",
              "    <tr>\n",
              "      <th>(A, 4.0)</th>\n",
              "      <td>429.824561</td>\n",
              "    </tr>\n",
              "    <tr>\n",
              "      <th>(B, 1.0)</th>\n",
              "      <td>2587.719298</td>\n",
              "    </tr>\n",
              "    <tr>\n",
              "      <th>(B, 2.0)</th>\n",
              "      <td>517.543860</td>\n",
              "    </tr>\n",
              "    <tr>\n",
              "      <th>(B, 3.0)</th>\n",
              "      <td>1552.631579</td>\n",
              "    </tr>\n",
              "    <tr>\n",
              "      <th>(B, 4.0)</th>\n",
              "      <td>517.543860</td>\n",
              "    </tr>\n",
              "    <tr>\n",
              "      <th>(C, 1.0)</th>\n",
              "      <td>0.000000</td>\n",
              "    </tr>\n",
              "    <tr>\n",
              "      <th>(C, 2.0)</th>\n",
              "      <td>0.000000</td>\n",
              "    </tr>\n",
              "    <tr>\n",
              "      <th>(C, 3.0)</th>\n",
              "      <td>0.000000</td>\n",
              "    </tr>\n",
              "    <tr>\n",
              "      <th>(C, 4.0)</th>\n",
              "      <td>0.000000</td>\n",
              "    </tr>\n",
              "  </tbody>\n",
              "</table>\n",
              "</div>\n",
              "      <button class=\"colab-df-convert\" onclick=\"convertToInteractive('df-aaecac6c-d5ec-4f6f-92f8-87bdce90ce89')\"\n",
              "              title=\"Convert this dataframe to an interactive table.\"\n",
              "              style=\"display:none;\">\n",
              "        \n",
              "  <svg xmlns=\"http://www.w3.org/2000/svg\" height=\"24px\"viewBox=\"0 0 24 24\"\n",
              "       width=\"24px\">\n",
              "    <path d=\"M0 0h24v24H0V0z\" fill=\"none\"/>\n",
              "    <path d=\"M18.56 5.44l.94 2.06.94-2.06 2.06-.94-2.06-.94-.94-2.06-.94 2.06-2.06.94zm-11 1L8.5 8.5l.94-2.06 2.06-.94-2.06-.94L8.5 2.5l-.94 2.06-2.06.94zm10 10l.94 2.06.94-2.06 2.06-.94-2.06-.94-.94-2.06-.94 2.06-2.06.94z\"/><path d=\"M17.41 7.96l-1.37-1.37c-.4-.4-.92-.59-1.43-.59-.52 0-1.04.2-1.43.59L10.3 9.45l-7.72 7.72c-.78.78-.78 2.05 0 2.83L4 21.41c.39.39.9.59 1.41.59.51 0 1.02-.2 1.41-.59l7.78-7.78 2.81-2.81c.8-.78.8-2.07 0-2.86zM5.41 20L4 18.59l7.72-7.72 1.47 1.35L5.41 20z\"/>\n",
              "  </svg>\n",
              "      </button>\n",
              "      \n",
              "  <style>\n",
              "    .colab-df-container {\n",
              "      display:flex;\n",
              "      flex-wrap:wrap;\n",
              "      gap: 12px;\n",
              "    }\n",
              "\n",
              "    .colab-df-convert {\n",
              "      background-color: #E8F0FE;\n",
              "      border: none;\n",
              "      border-radius: 50%;\n",
              "      cursor: pointer;\n",
              "      display: none;\n",
              "      fill: #1967D2;\n",
              "      height: 32px;\n",
              "      padding: 0 0 0 0;\n",
              "      width: 32px;\n",
              "    }\n",
              "\n",
              "    .colab-df-convert:hover {\n",
              "      background-color: #E2EBFA;\n",
              "      box-shadow: 0px 1px 2px rgba(60, 64, 67, 0.3), 0px 1px 3px 1px rgba(60, 64, 67, 0.15);\n",
              "      fill: #174EA6;\n",
              "    }\n",
              "\n",
              "    [theme=dark] .colab-df-convert {\n",
              "      background-color: #3B4455;\n",
              "      fill: #D2E3FC;\n",
              "    }\n",
              "\n",
              "    [theme=dark] .colab-df-convert:hover {\n",
              "      background-color: #434B5C;\n",
              "      box-shadow: 0px 1px 3px 1px rgba(0, 0, 0, 0.15);\n",
              "      filter: drop-shadow(0px 1px 2px rgba(0, 0, 0, 0.3));\n",
              "      fill: #FFFFFF;\n",
              "    }\n",
              "  </style>\n",
              "\n",
              "      <script>\n",
              "        const buttonEl =\n",
              "          document.querySelector('#df-aaecac6c-d5ec-4f6f-92f8-87bdce90ce89 button.colab-df-convert');\n",
              "        buttonEl.style.display =\n",
              "          google.colab.kernel.accessAllowed ? 'block' : 'none';\n",
              "\n",
              "        async function convertToInteractive(key) {\n",
              "          const element = document.querySelector('#df-aaecac6c-d5ec-4f6f-92f8-87bdce90ce89');\n",
              "          const dataTable =\n",
              "            await google.colab.kernel.invokeFunction('convertToInteractive',\n",
              "                                                     [key], {});\n",
              "          if (!dataTable) return;\n",
              "\n",
              "          const docLinkHtml = 'Like what you see? Visit the ' +\n",
              "            '<a target=\"_blank\" href=https://colab.research.google.com/notebooks/data_table.ipynb>data table notebook</a>'\n",
              "            + ' to learn more about interactive tables.';\n",
              "          element.innerHTML = '';\n",
              "          dataTable['output_type'] = 'display_data';\n",
              "          await google.colab.output.renderOutput(dataTable, element);\n",
              "          const docLink = document.createElement('div');\n",
              "          docLink.innerHTML = docLinkHtml;\n",
              "          element.appendChild(docLink);\n",
              "        }\n",
              "      </script>\n",
              "    </div>\n",
              "  </div>\n",
              "  "
            ]
          },
          "metadata": {},
          "execution_count": 8
        }
      ]
    }
  ]
}