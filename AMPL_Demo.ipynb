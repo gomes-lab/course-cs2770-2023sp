{
  "nbformat": 4,
  "nbformat_minor": 0,
  "metadata": {
    "colab": {
      "provenance": [],
      "authorship_tag": "ABX9TyODlsfmIHbSuCdCNzceVbwZ",
      "include_colab_link": true
    },
    "kernelspec": {
      "name": "python3",
      "display_name": "Python 3"
    },
    "language_info": {
      "name": "python"
    }
  },
  "cells": [
    {
      "cell_type": "markdown",
      "metadata": {
        "id": "view-in-github",
        "colab_type": "text"
      },
      "source": [
        "<a href=\"https://colab.research.google.com/github/gomes-lab/course-cs2770-2023sp/blob/main/AMPL_Demo.ipynb\" target=\"_parent\"><img src=\"https://colab.research.google.com/assets/colab-badge.svg\" alt=\"Open In Colab\"/></a>"
      ]
    },
    {
      "cell_type": "markdown",
      "source": [
        "## AMPL Demo - Save-It Reclamation Problem"
      ],
      "metadata": {
        "id": "OJEXd5ZKUPhK"
      }
    },
    {
      "cell_type": "code",
      "source": [
        "# Install dependencies\n",
        "!pip install -q amplpy pandas"
      ],
      "metadata": {
        "id": "nRId33qjUTQb"
      },
      "execution_count": null,
      "outputs": []
    }
  ]
}