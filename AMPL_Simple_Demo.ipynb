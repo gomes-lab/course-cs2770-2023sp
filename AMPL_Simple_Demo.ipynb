{
  "nbformat": 4,
  "nbformat_minor": 0,
  "metadata": {
    "colab": {
      "provenance": [],
      "authorship_tag": "ABX9TyOXiLMYYL7XG/xYsyCh1c4i",
      "include_colab_link": true
    },
    "kernelspec": {
      "name": "python3",
      "display_name": "Python 3"
    },
    "language_info": {
      "name": "python"
    }
  },
  "cells": [
    {
      "cell_type": "markdown",
      "metadata": {
        "id": "view-in-github",
        "colab_type": "text"
      },
      "source": [
        "<a href=\"https://colab.research.google.com/github/gomes-lab/course-cs2770-2023sp/blob/main/AMPL_Simple_Demo.ipynb\" target=\"_parent\"><img src=\"https://colab.research.google.com/assets/colab-badge.svg\" alt=\"Open In Colab\"/></a>"
      ]
    },
    {
      "cell_type": "code",
      "source": [
        "# Install dependencies\n",
        "!pip install -q amplpy pandas"
      ],
      "metadata": {
        "id": "nRId33qjUTQb"
      },
      "execution_count": 1,
      "outputs": []
    },
    {
      "cell_type": "code",
      "source": [
        "# Import packages and setup AMPL\n",
        "from amplpy import AMPL, tools\n",
        "ampl = tools.ampl_notebook(\n",
        "    modules=[\"highs\"],      # modules to install\n",
        "    license_uuid=\"default\", # license to use\n",
        "    g=globals())            # instantiate AMPL object and register magics"
      ],
      "metadata": {
        "colab": {
          "base_uri": "https://localhost:8080/"
        },
        "id": "AQpUdnKPUqbq",
        "outputId": "9cefb35d-795a-4d1b-979a-9faf27685875"
      },
      "execution_count": 2,
      "outputs": [
        {
          "output_type": "stream",
          "name": "stdout",
          "text": [
            "Using default Community Edition License for Colab. Get yours at: https://ampl.com/ce\n",
            "Licensed to AMPL Community Edition License for the AMPL Model Colaboratory (https://colab.ampl.com).\n"
          ]
        }
      ]
    },
    {
      "cell_type": "code",
      "source": [
        "# Setup small initial model\n",
        "%%ampl_eval\n",
        "var x1;\n",
        "var x2;\n",
        "maximize y: 3 * x1 + 5 * x2;\n",
        "subject to c1: x1  >= 1;\n",
        "subject to c2: 2 * x1 + x2 <= 8;\n",
        "subject to c3: x2 - x1 <= 2;"
      ],
      "metadata": {
        "id": "O2tMJBKlCkSd"
      },
      "execution_count": 3,
      "outputs": []
    },
    {
      "cell_type": "code",
      "source": [
        "# Solve the small problem\n",
        "ampl.option[\"solver\"] = \"highs\"\n",
        "ampl.option[\"highs_options\"] = \"outlev=0\"\n",
        "ampl.solve()"
      ],
      "metadata": {
        "colab": {
          "base_uri": "https://localhost:8080/"
        },
        "id": "EyB3dRJV0P5t",
        "outputId": "87479fa4-86c4-4ecc-99d8-ed0d11f8a0ac"
      },
      "execution_count": 4,
      "outputs": [
        {
          "output_type": "stream",
          "name": "stdout",
          "text": [
            "HiGHS 1.5.1: tech:outlev=0\n",
            "HiGHS 1.5.1: optimal solution; objective 26\n",
            "0 simplex iterations\n",
            "0 barrier iterations\n"
          ]
        }
      ]
    },
    {
      "cell_type": "code",
      "source": [
        "# Print the optimal variable values\n",
        "x1_opt = ampl.var['x1'].get_values().to_pandas()['x1.val'][0]\n",
        "x2_opt = ampl.var['x2'].get_values().to_pandas()['x2.val'][0]\n",
        "\n",
        "print('x1: {}, x2: {}'.format(x1_opt, x2_opt))"
      ],
      "metadata": {
        "colab": {
          "base_uri": "https://localhost:8080/"
        },
        "id": "b5sqBEYWIbuc",
        "outputId": "1f74824e-d3a7-4e2b-a617-568722424fac"
      },
      "execution_count": 5,
      "outputs": [
        {
          "output_type": "stream",
          "name": "stdout",
          "text": [
            "x1: 2.0, x2: 4.0\n"
          ]
        }
      ]
    }
  ]
}