{
  "nbformat": 4,
  "nbformat_minor": 0,
  "metadata": {
    "colab": {
      "provenance": [],
      "authorship_tag": "ABX9TyOXiLMYYL7XG/xYsyCh1c4i",
      "include_colab_link": true
    },
    "kernelspec": {
      "name": "python3",
      "display_name": "Python 3"
    },
    "language_info": {
      "name": "python"
    }
  },
  "cells": [
    {
      "cell_type": "markdown",
      "metadata": {
        "id": "view-in-github",
        "colab_type": "text"
      },
      "source": [
        "<a href=\"https://colab.research.google.com/github/gomes-lab/course-cs2770-2023sp/blob/main/Notebooks/AMPL_Simple_Demo.ipynb\" target=\"_parent\"><img src=\"https://colab.research.google.com/assets/colab-badge.svg\" alt=\"Open In Colab\"/></a>"
      ]
    },
    {
      "cell_type": "code",
      "source": [
        "# Install dependencies\n",
        "!pip install -q amplpy pandas"
      ],
      "metadata": {
        "colab": {
          "base_uri": "https://localhost:8080/"
        },
        "id": "nRId33qjUTQb",
        "outputId": "93e76c74-eb41-4561-b867-10a172e735b4"
      },
      "execution_count": null,
      "outputs": [
        {
          "output_type": "stream",
          "name": "stdout",
          "text": [
            "\u001b[?25l     \u001b[90m━━━━━━━━━━━━━━━━━━━━━━━━━━━━━━━━━━━━━━━━\u001b[0m \u001b[32m0.0/4.5 MB\u001b[0m \u001b[31m?\u001b[0m eta \u001b[36m-:--:--\u001b[0m\r\u001b[2K     \u001b[91m━━━━━━━━━\u001b[0m\u001b[90m╺\u001b[0m\u001b[90m━━━━━━━━━━━━━━━━━━━━━━━━━━━━━━\u001b[0m \u001b[32m1.0/4.5 MB\u001b[0m \u001b[31m30.1 MB/s\u001b[0m eta \u001b[36m0:00:01\u001b[0m\r\u001b[2K     \u001b[91m━━━━━━━━━━━━━━━━━━━━━━━━━━━━━━━━━━━━━━━\u001b[0m\u001b[90m╺\u001b[0m \u001b[32m4.5/4.5 MB\u001b[0m \u001b[31m62.9 MB/s\u001b[0m eta \u001b[36m0:00:01\u001b[0m\r\u001b[2K     \u001b[91m━━━━━━━━━━━━━━━━━━━━━━━━━━━━━━━━━━━━━━━\u001b[0m\u001b[91m╸\u001b[0m \u001b[32m4.5/4.5 MB\u001b[0m \u001b[31m61.1 MB/s\u001b[0m eta \u001b[36m0:00:01\u001b[0m\r\u001b[2K     \u001b[90m━━━━━━━━━━━━━━━━━━━━━━━━━━━━━━━━━━━━━━━━\u001b[0m \u001b[32m4.5/4.5 MB\u001b[0m \u001b[31m35.1 MB/s\u001b[0m eta \u001b[36m0:00:00\u001b[0m\n",
            "\u001b[?25h"
          ]
        }
      ]
    },
    {
      "cell_type": "code",
      "source": [
        "# Import packages and setup AMPL\n",
        "from amplpy import AMPL, tools\n",
        "ampl = tools.ampl_notebook(\n",
        "    modules=[\"highs\"],      # modules to install\n",
        "    license_uuid=\"default\", # license to use\n",
        "    g=globals())            # instantiate AMPL object and register magics"
      ],
      "metadata": {
        "colab": {
          "base_uri": "https://localhost:8080/"
        },
        "id": "AQpUdnKPUqbq",
        "outputId": "e89afd1b-8682-4d6e-aad2-ab36e47d7764"
      },
      "execution_count": null,
      "outputs": [
        {
          "output_type": "stream",
          "name": "stdout",
          "text": [
            "Using default Community Edition License for Colab. Get yours at: https://ampl.com/ce\n",
            "Licensed to AMPL Community Edition License for the AMPL Model Colaboratory (https://colab.ampl.com).\n"
          ]
        }
      ]
    },
    {
      "cell_type": "code",
      "source": [
        "# Setup small initial model\n",
        "%%ampl_eval\n",
        "var x1;\n",
        "var x2;\n",
        "maximize y: 3 * x1 + 5 * x2;\n",
        "subject to c1: x1  >= 1;\n",
        "subject to c2: 2 * x1 + x2 <= 8;\n",
        "subject to c3: x2 - x1 <= 2;"
      ],
      "metadata": {
        "id": "O2tMJBKlCkSd"
      },
      "execution_count": null,
      "outputs": []
    },
    {
      "cell_type": "code",
      "source": [
        "# Solve the small problem\n",
        "ampl.option[\"solver\"] = \"highs\"\n",
        "ampl.option[\"highs_options\"] = \"outlev=0\"\n",
        "ampl.solve()"
      ],
      "metadata": {
        "colab": {
          "base_uri": "https://localhost:8080/"
        },
        "id": "EyB3dRJV0P5t",
        "outputId": "75f5cd67-280e-4a30-8ad2-691f0e7d1906"
      },
      "execution_count": null,
      "outputs": [
        {
          "output_type": "stream",
          "name": "stdout",
          "text": [
            "HiGHS 1.5.1: tech:outlev=0\n",
            "HiGHS 1.5.1: optimal solution; objective 26\n",
            "0 simplex iterations\n",
            "0 barrier iterations\n"
          ]
        }
      ]
    },
    {
      "cell_type": "code",
      "source": [
        "# Print the optimal variable values\n",
        "x1_opt = ampl.var['x1'].get_values().to_pandas()['x1.val'][0]\n",
        "x2_opt = ampl.var['x2'].get_values().to_pandas()['x2.val'][0]\n",
        "\n",
        "print('x1: {}, x2: {}'.format(x1_opt, x2_opt))"
      ],
      "metadata": {
        "colab": {
          "base_uri": "https://localhost:8080/"
        },
        "id": "b5sqBEYWIbuc",
        "outputId": "05cc9f8b-595a-4896-e53b-51b68a7412b3"
      },
      "execution_count": null,
      "outputs": [
        {
          "output_type": "stream",
          "name": "stdout",
          "text": [
            "x1: 2.0, x2: 4.0\n"
          ]
        }
      ]
    }
  ]
}