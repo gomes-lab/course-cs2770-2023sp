{
  "nbformat": 4,
  "nbformat_minor": 0,
  "metadata": {
    "colab": {
      "provenance": [],
      "authorship_tag": "ABX9TyP+8yUFlZlJjpUgTRX5rRBC",
      "include_colab_link": true
    },
    "kernelspec": {
      "name": "python3",
      "display_name": "Python 3"
    },
    "language_info": {
      "name": "python"
    }
  },
  "cells": [
    {
      "cell_type": "markdown",
      "metadata": {
        "id": "view-in-github",
        "colab_type": "text"
      },
      "source": [
        "<a href=\"https://colab.research.google.com/github/gomes-lab/course-cs2770-2023sp/blob/main/Notebooks/Notebook_Demo.ipynb\" target=\"_parent\"><img src=\"https://colab.research.google.com/assets/colab-badge.svg\" alt=\"Open In Colab\"/></a>"
      ]
    },
    {
      "cell_type": "markdown",
      "source": [
        "## 1) Cells\n",
        "The main body of a notebook is composed of two types of cells: \n",
        "- **code cells** that contain code to be executed (also the default type of cell), \n",
        "- **markdown cells** that contain formatted text.\n",
        "\n",
        "For instance, the current paragraph is written in a markdown cell, and the box below is a code cell containing a single line of code. To execute the code in a cell, click on the cell and press **shift + enter**, or just click the Run button. To interrupt the execution of a cell, press the stop button. To add a new cell, click the '+' button at the top of the page."
      ],
      "metadata": {
        "id": "exDKy4mz8ZXJ"
      }
    },
    {
      "cell_type": "code",
      "source": [
        "print('Hello World!')"
      ],
      "metadata": {
        "colab": {
          "base_uri": "https://localhost:8080/"
        },
        "id": "rTTlCFMB8a40",
        "outputId": "a1bb9170-f6ac-44d6-8202-2979a93cc4ce"
      },
      "execution_count": null,
      "outputs": [
        {
          "output_type": "stream",
          "name": "stdout",
          "text": [
            "Hello World!\n"
          ]
        }
      ]
    },
    {
      "cell_type": "code",
      "source": [
        "a = 5  #setting the value of a\n",
        "print(2**a) #This line will print out the value of 2^a"
      ],
      "metadata": {
        "colab": {
          "base_uri": "https://localhost:8080/"
        },
        "id": "e4gInB1o8h4-",
        "outputId": "51546234-74b3-4a6c-8545-726df42a4afe"
      },
      "execution_count": null,
      "outputs": [
        {
          "output_type": "stream",
          "name": "stdout",
          "text": [
            "32\n"
          ]
        }
      ]
    },
    {
      "cell_type": "code",
      "source": [
        "#Press the stop button to interrupt the execution of this cell\n",
        "import time\n",
        "time.sleep(10) #The kernel will sleep for 10 seconds"
      ],
      "metadata": {
        "id": "6vUQi90Q8mE9"
      },
      "execution_count": null,
      "outputs": []
    },
    {
      "cell_type": "markdown",
      "source": [
        "## 2) Comments\n",
        "\n",
        "Comments are texts written after the **'#'** sign and are ignored by python. We use comments to explain code and make them more readable.  \n"
      ],
      "metadata": {
        "id": "1mtlEoP18s2S"
      }
    },
    {
      "cell_type": "code",
      "source": [
        "#This is a comment\n",
        "print('Hello World!') #This is also a comment"
      ],
      "metadata": {
        "colab": {
          "base_uri": "https://localhost:8080/"
        },
        "id": "iS20kyik8tqH",
        "outputId": "12458773-4742-4eaf-b7f3-aab6672c289b"
      },
      "execution_count": 10,
      "outputs": [
        {
          "output_type": "stream",
          "name": "stdout",
          "text": [
            "Hello World!\n"
          ]
        }
      ]
    },
    {
      "cell_type": "markdown",
      "source": [
        "## 3) Reading csv files\n",
        "\n",
        "In order to work with csv files, we'll import pandas to work with our data and Matplotlib to plot figures."
      ],
      "metadata": {
        "id": "gC-skfDH816e"
      }
    },
    {
      "cell_type": "code",
      "source": [
        "# This cell import the necessary packages for running the code\n",
        "import numpy as np\n",
        "import matplotlib.pyplot as plt\n",
        "%matplotlib inline\n",
        "import pandas as pd\n",
        "plt.style.use(\"seaborn\")"
      ],
      "metadata": {
        "id": "Gpz5bek184O3"
      },
      "execution_count": null,
      "outputs": []
    },
    {
      "cell_type": "markdown",
      "source": [
        "First, we will demonstrate how to load csv files online. The data comes from the COVID-19 Data Repository by Johns Hopkins CSSE on github."
      ],
      "metadata": {
        "id": "E0JVDciL89Wc"
      }
    },
    {
      "cell_type": "code",
      "source": [
        "url = 'https://raw.githubusercontent.com/CSSEGISandData/COVID-19/master/csse_covid_19_data/csse_covid_19_time_series/time_series_covid19_confirmed_global.csv'\n",
        "df = pd.read_csv(url)\n",
        "df.head() #This line will print the first few lines of the csv file"
      ],
      "metadata": {
        "colab": {
          "base_uri": "https://localhost:8080/",
          "height": 280
        },
        "id": "VnS1cywT8-hd",
        "outputId": "1125a28e-4fe7-4561-daf8-c751df53fa2b"
      },
      "execution_count": null,
      "outputs": [
        {
          "output_type": "execute_result",
          "data": {
            "text/plain": [
              "  Province/State Country/Region       Lat       Long  1/22/20  1/23/20  \\\n",
              "0            NaN    Afghanistan  33.93911  67.709953        0        0   \n",
              "1            NaN        Albania  41.15330  20.168300        0        0   \n",
              "2            NaN        Algeria  28.03390   1.659600        0        0   \n",
              "3            NaN        Andorra  42.50630   1.521800        0        0   \n",
              "4            NaN         Angola -11.20270  17.873900        0        0   \n",
              "\n",
              "   1/24/20  1/25/20  1/26/20  1/27/20  ...  1/27/23  1/28/23  1/29/23  \\\n",
              "0        0        0        0        0  ...   208432   208435   208435   \n",
              "1        0        0        0        0  ...   334144   334153   334157   \n",
              "2        0        0        0        0  ...   271369   271369   271376   \n",
              "3        0        0        0        0  ...    47820    47839    47839   \n",
              "4        0        0        0        0  ...   105184   105184   105184   \n",
              "\n",
              "   1/30/23  1/31/23  2/1/23  2/2/23  2/3/23  2/4/23  2/5/23  \n",
              "0   208502   208545  208552  208669  208669  208621  208627  \n",
              "1   334157   334167  334177  334187  334203  334204  334211  \n",
              "2   271376   271378  271385  271386  271394  271394  271394  \n",
              "3    47839    47839   47839   47839   47850   47850   47850  \n",
              "4   105184   105184  105184  105184  105184  105184  105184  \n",
              "\n",
              "[5 rows x 1115 columns]"
            ],
            "text/html": [
              "\n",
              "  <div id=\"df-ed2c90e7-9c5c-4fa6-a559-e671d8f3786b\">\n",
              "    <div class=\"colab-df-container\">\n",
              "      <div>\n",
              "<style scoped>\n",
              "    .dataframe tbody tr th:only-of-type {\n",
              "        vertical-align: middle;\n",
              "    }\n",
              "\n",
              "    .dataframe tbody tr th {\n",
              "        vertical-align: top;\n",
              "    }\n",
              "\n",
              "    .dataframe thead th {\n",
              "        text-align: right;\n",
              "    }\n",
              "</style>\n",
              "<table border=\"1\" class=\"dataframe\">\n",
              "  <thead>\n",
              "    <tr style=\"text-align: right;\">\n",
              "      <th></th>\n",
              "      <th>Province/State</th>\n",
              "      <th>Country/Region</th>\n",
              "      <th>Lat</th>\n",
              "      <th>Long</th>\n",
              "      <th>1/22/20</th>\n",
              "      <th>1/23/20</th>\n",
              "      <th>1/24/20</th>\n",
              "      <th>1/25/20</th>\n",
              "      <th>1/26/20</th>\n",
              "      <th>1/27/20</th>\n",
              "      <th>...</th>\n",
              "      <th>1/27/23</th>\n",
              "      <th>1/28/23</th>\n",
              "      <th>1/29/23</th>\n",
              "      <th>1/30/23</th>\n",
              "      <th>1/31/23</th>\n",
              "      <th>2/1/23</th>\n",
              "      <th>2/2/23</th>\n",
              "      <th>2/3/23</th>\n",
              "      <th>2/4/23</th>\n",
              "      <th>2/5/23</th>\n",
              "    </tr>\n",
              "  </thead>\n",
              "  <tbody>\n",
              "    <tr>\n",
              "      <th>0</th>\n",
              "      <td>NaN</td>\n",
              "      <td>Afghanistan</td>\n",
              "      <td>33.93911</td>\n",
              "      <td>67.709953</td>\n",
              "      <td>0</td>\n",
              "      <td>0</td>\n",
              "      <td>0</td>\n",
              "      <td>0</td>\n",
              "      <td>0</td>\n",
              "      <td>0</td>\n",
              "      <td>...</td>\n",
              "      <td>208432</td>\n",
              "      <td>208435</td>\n",
              "      <td>208435</td>\n",
              "      <td>208502</td>\n",
              "      <td>208545</td>\n",
              "      <td>208552</td>\n",
              "      <td>208669</td>\n",
              "      <td>208669</td>\n",
              "      <td>208621</td>\n",
              "      <td>208627</td>\n",
              "    </tr>\n",
              "    <tr>\n",
              "      <th>1</th>\n",
              "      <td>NaN</td>\n",
              "      <td>Albania</td>\n",
              "      <td>41.15330</td>\n",
              "      <td>20.168300</td>\n",
              "      <td>0</td>\n",
              "      <td>0</td>\n",
              "      <td>0</td>\n",
              "      <td>0</td>\n",
              "      <td>0</td>\n",
              "      <td>0</td>\n",
              "      <td>...</td>\n",
              "      <td>334144</td>\n",
              "      <td>334153</td>\n",
              "      <td>334157</td>\n",
              "      <td>334157</td>\n",
              "      <td>334167</td>\n",
              "      <td>334177</td>\n",
              "      <td>334187</td>\n",
              "      <td>334203</td>\n",
              "      <td>334204</td>\n",
              "      <td>334211</td>\n",
              "    </tr>\n",
              "    <tr>\n",
              "      <th>2</th>\n",
              "      <td>NaN</td>\n",
              "      <td>Algeria</td>\n",
              "      <td>28.03390</td>\n",
              "      <td>1.659600</td>\n",
              "      <td>0</td>\n",
              "      <td>0</td>\n",
              "      <td>0</td>\n",
              "      <td>0</td>\n",
              "      <td>0</td>\n",
              "      <td>0</td>\n",
              "      <td>...</td>\n",
              "      <td>271369</td>\n",
              "      <td>271369</td>\n",
              "      <td>271376</td>\n",
              "      <td>271376</td>\n",
              "      <td>271378</td>\n",
              "      <td>271385</td>\n",
              "      <td>271386</td>\n",
              "      <td>271394</td>\n",
              "      <td>271394</td>\n",
              "      <td>271394</td>\n",
              "    </tr>\n",
              "    <tr>\n",
              "      <th>3</th>\n",
              "      <td>NaN</td>\n",
              "      <td>Andorra</td>\n",
              "      <td>42.50630</td>\n",
              "      <td>1.521800</td>\n",
              "      <td>0</td>\n",
              "      <td>0</td>\n",
              "      <td>0</td>\n",
              "      <td>0</td>\n",
              "      <td>0</td>\n",
              "      <td>0</td>\n",
              "      <td>...</td>\n",
              "      <td>47820</td>\n",
              "      <td>47839</td>\n",
              "      <td>47839</td>\n",
              "      <td>47839</td>\n",
              "      <td>47839</td>\n",
              "      <td>47839</td>\n",
              "      <td>47839</td>\n",
              "      <td>47850</td>\n",
              "      <td>47850</td>\n",
              "      <td>47850</td>\n",
              "    </tr>\n",
              "    <tr>\n",
              "      <th>4</th>\n",
              "      <td>NaN</td>\n",
              "      <td>Angola</td>\n",
              "      <td>-11.20270</td>\n",
              "      <td>17.873900</td>\n",
              "      <td>0</td>\n",
              "      <td>0</td>\n",
              "      <td>0</td>\n",
              "      <td>0</td>\n",
              "      <td>0</td>\n",
              "      <td>0</td>\n",
              "      <td>...</td>\n",
              "      <td>105184</td>\n",
              "      <td>105184</td>\n",
              "      <td>105184</td>\n",
              "      <td>105184</td>\n",
              "      <td>105184</td>\n",
              "      <td>105184</td>\n",
              "      <td>105184</td>\n",
              "      <td>105184</td>\n",
              "      <td>105184</td>\n",
              "      <td>105184</td>\n",
              "    </tr>\n",
              "  </tbody>\n",
              "</table>\n",
              "<p>5 rows × 1115 columns</p>\n",
              "</div>\n",
              "      <button class=\"colab-df-convert\" onclick=\"convertToInteractive('df-ed2c90e7-9c5c-4fa6-a559-e671d8f3786b')\"\n",
              "              title=\"Convert this dataframe to an interactive table.\"\n",
              "              style=\"display:none;\">\n",
              "        \n",
              "  <svg xmlns=\"http://www.w3.org/2000/svg\" height=\"24px\"viewBox=\"0 0 24 24\"\n",
              "       width=\"24px\">\n",
              "    <path d=\"M0 0h24v24H0V0z\" fill=\"none\"/>\n",
              "    <path d=\"M18.56 5.44l.94 2.06.94-2.06 2.06-.94-2.06-.94-.94-2.06-.94 2.06-2.06.94zm-11 1L8.5 8.5l.94-2.06 2.06-.94-2.06-.94L8.5 2.5l-.94 2.06-2.06.94zm10 10l.94 2.06.94-2.06 2.06-.94-2.06-.94-.94-2.06-.94 2.06-2.06.94z\"/><path d=\"M17.41 7.96l-1.37-1.37c-.4-.4-.92-.59-1.43-.59-.52 0-1.04.2-1.43.59L10.3 9.45l-7.72 7.72c-.78.78-.78 2.05 0 2.83L4 21.41c.39.39.9.59 1.41.59.51 0 1.02-.2 1.41-.59l7.78-7.78 2.81-2.81c.8-.78.8-2.07 0-2.86zM5.41 20L4 18.59l7.72-7.72 1.47 1.35L5.41 20z\"/>\n",
              "  </svg>\n",
              "      </button>\n",
              "      \n",
              "  <style>\n",
              "    .colab-df-container {\n",
              "      display:flex;\n",
              "      flex-wrap:wrap;\n",
              "      gap: 12px;\n",
              "    }\n",
              "\n",
              "    .colab-df-convert {\n",
              "      background-color: #E8F0FE;\n",
              "      border: none;\n",
              "      border-radius: 50%;\n",
              "      cursor: pointer;\n",
              "      display: none;\n",
              "      fill: #1967D2;\n",
              "      height: 32px;\n",
              "      padding: 0 0 0 0;\n",
              "      width: 32px;\n",
              "    }\n",
              "\n",
              "    .colab-df-convert:hover {\n",
              "      background-color: #E2EBFA;\n",
              "      box-shadow: 0px 1px 2px rgba(60, 64, 67, 0.3), 0px 1px 3px 1px rgba(60, 64, 67, 0.15);\n",
              "      fill: #174EA6;\n",
              "    }\n",
              "\n",
              "    [theme=dark] .colab-df-convert {\n",
              "      background-color: #3B4455;\n",
              "      fill: #D2E3FC;\n",
              "    }\n",
              "\n",
              "    [theme=dark] .colab-df-convert:hover {\n",
              "      background-color: #434B5C;\n",
              "      box-shadow: 0px 1px 3px 1px rgba(0, 0, 0, 0.15);\n",
              "      filter: drop-shadow(0px 1px 2px rgba(0, 0, 0, 0.3));\n",
              "      fill: #FFFFFF;\n",
              "    }\n",
              "  </style>\n",
              "\n",
              "      <script>\n",
              "        const buttonEl =\n",
              "          document.querySelector('#df-ed2c90e7-9c5c-4fa6-a559-e671d8f3786b button.colab-df-convert');\n",
              "        buttonEl.style.display =\n",
              "          google.colab.kernel.accessAllowed ? 'block' : 'none';\n",
              "\n",
              "        async function convertToInteractive(key) {\n",
              "          const element = document.querySelector('#df-ed2c90e7-9c5c-4fa6-a559-e671d8f3786b');\n",
              "          const dataTable =\n",
              "            await google.colab.kernel.invokeFunction('convertToInteractive',\n",
              "                                                     [key], {});\n",
              "          if (!dataTable) return;\n",
              "\n",
              "          const docLinkHtml = 'Like what you see? Visit the ' +\n",
              "            '<a target=\"_blank\" href=https://colab.research.google.com/notebooks/data_table.ipynb>data table notebook</a>'\n",
              "            + ' to learn more about interactive tables.';\n",
              "          element.innerHTML = '';\n",
              "          dataTable['output_type'] = 'display_data';\n",
              "          await google.colab.output.renderOutput(dataTable, element);\n",
              "          const docLink = document.createElement('div');\n",
              "          docLink.innerHTML = docLinkHtml;\n",
              "          element.appendChild(docLink);\n",
              "        }\n",
              "      </script>\n",
              "    </div>\n",
              "  </div>\n",
              "  "
            ]
          },
          "metadata": {},
          "execution_count": 7
        }
      ]
    },
    {
      "cell_type": "code",
      "source": [
        "start = '2020-03-01' # March 1st, 2020\n",
        "end='2020-03-31' # March 31st, 2020\n",
        "\n",
        "US_data=df[df['Country/Region'] == 'US'][df.columns[4:]].T\n",
        "US_data.index=pd.to_datetime(US_data.index)\n",
        "US_data=US_data.rename(columns={US_data.columns[0]: \"US total confirmed cases\"})\n",
        "\n",
        "#plot the data in linear and log scale\n",
        "US_data[start:end].plot(style='-o',figsize=(9,6), title='Total COVID cases in United State in March 2020')"
      ],
      "metadata": {
        "colab": {
          "base_uri": "https://localhost:8080/",
          "height": 441
        },
        "id": "ddXhYCEt9IbB",
        "outputId": "83b97fd6-758d-4812-a8b6-33d5edf51f49"
      },
      "execution_count": null,
      "outputs": [
        {
          "output_type": "execute_result",
          "data": {
            "text/plain": [
              "<matplotlib.axes._subplots.AxesSubplot at 0x7f4cfa5504c0>"
            ]
          },
          "metadata": {},
          "execution_count": 10
        },
        {
          "output_type": "display_data",
          "data": {
            "text/plain": [
              "<Figure size 648x432 with 1 Axes>"
            ],
            "image/png": "[encoded data removed]"
          },
          "metadata": {}
        }
      ]
    }
  ]
}